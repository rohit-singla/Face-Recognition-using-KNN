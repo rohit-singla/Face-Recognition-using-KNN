{
 "cells": [
  {
   "cell_type": "code",
   "execution_count": 1,
   "metadata": {},
   "outputs": [],
   "source": [
    "import cv2\n",
    "import numpy as np"
   ]
  },
  {
   "cell_type": "code",
   "execution_count": null,
   "metadata": {},
   "outputs": [],
   "source": [
    "#KNN\n",
    "def distance(v1, v2):\n",
    "    return np.sqrt(((v1 - v2)**2).sum())\n",
    "\n",
    "def knn(train, test, k = 5):\n",
    "    dist = []\n",
    "    \n",
    "    for i in range(train.shape[0]):\n",
    "        ix = train[i, :-1]\n",
    "        iy = train[i, -1]\n",
    "        d = distance(test, ix)\n",
    "        dist.append([d,iy])\n",
    "    dk = sorted(dist, key = lambda x:x[0])[:k]\n",
    "    labels = np.array(dk)[:,-1]\n",
    "    \n",
    "    output = np.unique(labels, return_counts = True)\n",
    "    index = np.argmax(output[1])\n",
    "    return output[0][index]"
   ]
  }
 ],
 "metadata": {
  "kernelspec": {
   "display_name": "Python 3",
   "language": "python",
   "name": "python3"
  },
  "language_info": {
   "codemirror_mode": {
    "name": "ipython",
    "version": 3
   },
   "file_extension": ".py",
   "mimetype": "text/x-python",
   "name": "python",
   "nbconvert_exporter": "python",
   "pygments_lexer": "ipython3",
   "version": "3.7.0"
  }
 },
 "nbformat": 4,
 "nbformat_minor": 2
}
